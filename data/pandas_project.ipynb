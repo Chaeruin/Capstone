{
 "cells": [
  {
   "cell_type": "code",
   "execution_count": 30,
   "id": "1872faa9",
   "metadata": {},
   "outputs": [],
   "source": [
    "import pandas as pd"
   ]
  },
  {
   "cell_type": "code",
   "execution_count": null,
   "id": "53c20c29",
   "metadata": {},
   "outputs": [],
   "source": [
    "df = pd.read_csv ('example.csv')\n"
   ]
  },
  {
   "cell_type": "code",
   "execution_count": null,
   "id": "fdf3f725",
   "metadata": {},
   "outputs": [],
   "source": [
    "df = pd.read_csv ('date.csv', engine ='python')"
   ]
  },
  {
   "cell_type": "code",
   "execution_count": null,
   "id": "4eaf1336",
   "metadata": {},
   "outputs": [],
   "source": []
  }
 ],
 "metadata": {
  "kernelspec": {
   "display_name": "Python 3 (ipykernel)",
   "language": "python",
   "name": "python3"
  },
  "language_info": {
   "codemirror_mode": {
    "name": "ipython",
    "version": 3
   },
   "file_extension": ".py",
   "mimetype": "text/x-python",
   "name": "python",
   "nbconvert_exporter": "python",
   "pygments_lexer": "ipython3",
   "version": "3.10.9"
  }
 },
 "nbformat": 4,
 "nbformat_minor": 5
}
