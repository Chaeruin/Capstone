{
 "cells": [
  {
   "cell_type": "code",
   "execution_count": 10,
   "id": "d3e0aaee",
   "metadata": {},
   "outputs": [],
   "source": [
    "import pandas as pd"
   ]
  },
  {
   "cell_type": "code",
   "execution_count": 12,
   "id": "df3fe74b",
   "metadata": {},
   "outputs": [],
   "source": [
    "df1= pd.read_csv('date.csv')//date_time.csv파일 불러오기"
   ]
  },
  {
   "cell_type": "code",
   "execution_count": 62,
   "id": "868724df",
   "metadata": {
    "collapsed": true
   },
   "outputs": [
    {
     "ename": "SyntaxError",
     "evalue": "invalid syntax (3906070192.py, line 1)",
     "output_type": "error",
     "traceback": [
      "\u001b[1;36m  Cell \u001b[1;32mIn[62], line 1\u001b[1;36m\u001b[0m\n\u001b[1;33m    df1_s = df1.sort_values(by=[\"temperature\", \"humidity\"], ascending=[False, False])//\u001b[0m\n\u001b[1;37m                                                                                       ^\u001b[0m\n\u001b[1;31mSyntaxError\u001b[0m\u001b[1;31m:\u001b[0m invalid syntax\n"
     ]
    }
   ],
   "source": [
    "df1_s = df1.sort_values(by=[\"temperature\", \"humidity\"], ascending=[False, False]) \n",
    "//temperature, humidity열 내림차순 동시정렬"
   ]
  },
  {
   "cell_type": "code",
   "execution_count": 24,
   "id": "10acdf41",
   "metadata": {},
   "outputs": [],
   "source": [
    "df2 = pd.read_csv('tnh.csv')//tnh.csv파일 불러오기"
   ]
  },
  {
   "cell_type": "code",
   "execution_count": 27,
   "id": "e96e8aab",
   "metadata": {},
   "outputs": [],
   "source": [
    "df2_s = df2.sort_values(by=[\"temperature\", \"humidity\"], ascending=[False, False])\n",
    "////temperature, humidity열 내림차순 동시정렬"
   ]
  },
  {
   "cell_type": "code",
   "execution_count": 31,
   "id": "3145dccd",
   "metadata": {},
   "outputs": [],
   "source": [
    "df3 = pd.read_csv('stay_time.csv')"
   ]
  },
  {
   "cell_type": "code",
   "execution_count": 34,
   "id": "3f1eb7e1",
   "metadata": {},
   "outputs": [],
   "source": [
    "df3_s = df3.sort_values(by=[\"stay_time\"], ascending=[False])"
   ]
  },
  {
   "cell_type": "code",
   "execution_count": 43,
   "id": "fa7eb28d",
   "metadata": {},
   "outputs": [],
   "source": [
    "df1.drop(df1.index[300:755], inplace=True)"
   ]
  },
  {
   "cell_type": "code",
   "execution_count": 64,
   "id": "a0b33108",
   "metadata": {
    "scrolled": true
   },
   "outputs": [],
   "source": [
    "%matplotlib inline"
   ]
  },
  {
   "cell_type": "code",
   "execution_count": 74,
   "id": "5d216094",
   "metadata": {},
   "outputs": [
    {
     "name": "stdout",
     "output_type": "stream",
     "text": [
      "<class 'pandas.core.frame.DataFrame'>\n",
      "Index: 757 entries, 152 to 86\n",
      "Data columns (total 2 columns):\n",
      " #   Column     Non-Null Count  Dtype \n",
      "---  ------     --------------  ----- \n",
      " 0   stay_id    757 non-null    object\n",
      " 1   stay_time  757 non-null    object\n",
      "dtypes: object(2)\n",
      "memory usage: 17.7+ KB\n"
     ]
    }
   ],
   "source": [
    "df3_s.info()"
   ]
  }
 ],
 "metadata": {
  "kernelspec": {
   "display_name": "Python 3 (ipykernel)",
   "language": "python",
   "name": "python3"
  },
  "language_info": {
   "codemirror_mode": {
    "name": "ipython",
    "version": 3
   },
   "file_extension": ".py",
   "mimetype": "text/x-python",
   "name": "python",
   "nbconvert_exporter": "python",
   "pygments_lexer": "ipython3",
   "version": "3.10.9"
  }
 },
 "nbformat": 4,
 "nbformat_minor": 5
}
